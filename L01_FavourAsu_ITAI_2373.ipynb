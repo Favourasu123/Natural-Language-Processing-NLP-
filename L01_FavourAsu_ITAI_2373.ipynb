{
  "nbformat": 4,
  "nbformat_minor": 0,
  "metadata": {
    "colab": {
      "provenance": []
    },
    "kernelspec": {
      "name": "python3",
      "display_name": "Python 3"
    },
    "language_info": {
      "name": "python"
    }
  },
  "cells": [
    {
      "cell_type": "code",
      "execution_count": 1,
      "metadata": {
        "id": "0HCkVVRnBD3Q"
      },
      "outputs": [],
      "source": [
        "import pandas as pd"
      ]
    },
    {
      "cell_type": "code",
      "source": [
        "your_data = \"\"\"The moon shimmered above, casting an ethereal glow on the ancient ruins.\n",
        "Whispers of forgotten stories seemed to linger in the wind, beckoning us closer.\n",
        "With hearts full of curiosity, we embarked on a journey through time, deciphering secrets hidden within the crumbling stones.\"\"\"\n",
        "\n",
        "print(your_data)  # Print the entire text"
      ],
      "metadata": {
        "colab": {
          "base_uri": "https://localhost:8080/"
        },
        "id": "t4Br3O0PB1Z4",
        "outputId": "8cb0b703-1b2a-4f7d-cc67-d3441f4dd91d"
      },
      "execution_count": 2,
      "outputs": [
        {
          "output_type": "stream",
          "name": "stdout",
          "text": [
            "The moon shimmered above, casting an ethereal glow on the ancient ruins. \n",
            "Whispers of forgotten stories seemed to linger in the wind, beckoning us closer. \n",
            "With hearts full of curiosity, we embarked on a journey through time, deciphering secrets hidden within the crumbling stones.\n"
          ]
        }
      ]
    },
    {
      "cell_type": "code",
      "source": [
        "first_sentence = your_data[:your_data.find(\".\")]\n",
        "print(f\"First sentence: {first_sentence}\")"
      ],
      "metadata": {
        "colab": {
          "base_uri": "https://localhost:8080/"
        },
        "id": "-_BPZrVaCA3b",
        "outputId": "4e4055e4-34f9-4715-b88e-a623f3d3604f"
      },
      "execution_count": 4,
      "outputs": [
        {
          "output_type": "stream",
          "name": "stdout",
          "text": [
            "First sentence: The moon shimmered above, casting an ethereal glow on the ancient ruins\n"
          ]
        }
      ]
    },
    {
      "cell_type": "code",
      "source": [
        "after_second_comma = your_data[your_data.find(',') + 2:]\n",
        "print(f\"Text after second comma: {after_second_comma}\")"
      ],
      "metadata": {
        "colab": {
          "base_uri": "https://localhost:8080/"
        },
        "id": "JhxmMYplCG-3",
        "outputId": "6c079d9f-814b-48ed-8d06-4acfedff91be"
      },
      "execution_count": 5,
      "outputs": [
        {
          "output_type": "stream",
          "name": "stdout",
          "text": [
            "Text after second comma: casting an ethereal glow on the ancient ruins. \n",
            "Whispers of forgotten stories seemed to linger in the wind, beckoning us closer. \n",
            "With hearts full of curiosity, we embarked on a journey through time, deciphering secrets hidden within the crumbling stones.\n"
          ]
        }
      ]
    },
    {
      "cell_type": "code",
      "source": [
        "sentence2 = \"Unraveling the mysteries of the past, we felt a connection to those who came before.\"\n",
        "combined_text = your_data + \"\\n\" + sentence2\n",
        "print(combined_text)  # Print the combined text with a newline"
      ],
      "metadata": {
        "colab": {
          "base_uri": "https://localhost:8080/"
        },
        "id": "IkAXyIKPCLc_",
        "outputId": "51ebce41-8b2d-4743-b66e-8e6a3483eb18"
      },
      "execution_count": 6,
      "outputs": [
        {
          "output_type": "stream",
          "name": "stdout",
          "text": [
            "The moon shimmered above, casting an ethereal glow on the ancient ruins. \n",
            "Whispers of forgotten stories seemed to linger in the wind, beckoning us closer. \n",
            "With hearts full of curiosity, we embarked on a journey through time, deciphering secrets hidden within the crumbling stones.\n",
            "Unraveling the mysteries of the past, we felt a connection to those who came before.\n"
          ]
        }
      ]
    },
    {
      "cell_type": "code",
      "source": [
        "char_at_15 = your_data[14]\n",
        "print(f\"Character at index 15: {char_at_15}\")"
      ],
      "metadata": {
        "colab": {
          "base_uri": "https://localhost:8080/"
        },
        "id": "6luQK4dtCN9K",
        "outputId": "0d0d9127-0b44-4c93-a37b-1f4d53cfe980"
      },
      "execution_count": 7,
      "outputs": [
        {
          "output_type": "stream",
          "name": "stdout",
          "text": [
            "Character at index 15: e\n"
          ]
        }
      ]
    },
    {
      "cell_type": "code",
      "source": [
        "secrets_index = your_data.find(\"secrets\")\n",
        "print(f\"Index of 'secrets': {secrets_index}\")"
      ],
      "metadata": {
        "colab": {
          "base_uri": "https://localhost:8080/"
        },
        "id": "Kh49uwCQCQew",
        "outputId": "c64f1d58-4d8d-47c1-9f70-abe3494f111e"
      },
      "execution_count": 8,
      "outputs": [
        {
          "output_type": "stream",
          "name": "stdout",
          "text": [
            "Index of 'secrets': 238\n"
          ]
        }
      ]
    },
    {
      "cell_type": "code",
      "source": [
        "uppercase_data = your_data.upper()\n",
        "print(uppercase_data)"
      ],
      "metadata": {
        "colab": {
          "base_uri": "https://localhost:8080/"
        },
        "id": "F7pKMLnUCUMW",
        "outputId": "0d2542fa-5175-441a-ec9a-b5da1f7e9c8f"
      },
      "execution_count": 9,
      "outputs": [
        {
          "output_type": "stream",
          "name": "stdout",
          "text": [
            "THE MOON SHIMMERED ABOVE, CASTING AN ETHEREAL GLOW ON THE ANCIENT RUINS. \n",
            "WHISPERS OF FORGOTTEN STORIES SEEMED TO LINGER IN THE WIND, BECKONING US CLOSER. \n",
            "WITH HEARTS FULL OF CURIOSITY, WE EMBARKED ON A JOURNEY THROUGH TIME, DECIPHERING SECRETS HIDDEN WITHIN THE CRUMBLING STONES.\n"
          ]
        }
      ]
    },
    {
      "cell_type": "code",
      "source": [
        "word_list = your_data.split()\n",
        "print(f\"Word list: {word_list}\")"
      ],
      "metadata": {
        "colab": {
          "base_uri": "https://localhost:8080/"
        },
        "id": "A0C-1mZHCZoT",
        "outputId": "0051f53e-a4ee-443a-9934-6210ca8e3fc9"
      },
      "execution_count": 10,
      "outputs": [
        {
          "output_type": "stream",
          "name": "stdout",
          "text": [
            "Word list: ['The', 'moon', 'shimmered', 'above,', 'casting', 'an', 'ethereal', 'glow', 'on', 'the', 'ancient', 'ruins.', 'Whispers', 'of', 'forgotten', 'stories', 'seemed', 'to', 'linger', 'in', 'the', 'wind,', 'beckoning', 'us', 'closer.', 'With', 'hearts', 'full', 'of', 'curiosity,', 'we', 'embarked', 'on', 'a', 'journey', 'through', 'time,', 'deciphering', 'secrets', 'hidden', 'within', 'the', 'crumbling', 'stones.']\n"
          ]
        }
      ]
    },
    {
      "cell_type": "code",
      "source": [
        "word_count = len(word_list)\n",
        "print(f\"Number of words: {word_count}\")"
      ],
      "metadata": {
        "colab": {
          "base_uri": "https://localhost:8080/"
        },
        "id": "vEEUWQNZCc7R",
        "outputId": "82a8c996-afa9-4f1d-b3af-af85c45bdda2"
      },
      "execution_count": 11,
      "outputs": [
        {
          "output_type": "stream",
          "name": "stdout",
          "text": [
            "Number of words: 44\n"
          ]
        }
      ]
    },
    {
      "cell_type": "code",
      "source": [
        "for char in your_data:\n",
        "    print(char, end=\"\")  # Print without newline\n",
        "print(\"\\n\")  # Add a newline after the loop"
      ],
      "metadata": {
        "colab": {
          "base_uri": "https://localhost:8080/"
        },
        "id": "brlXucI_CfcY",
        "outputId": "2dad3a7d-15cd-4b57-ef32-d95197631ff1"
      },
      "execution_count": 12,
      "outputs": [
        {
          "output_type": "stream",
          "name": "stdout",
          "text": [
            "The moon shimmered above, casting an ethereal glow on the ancient ruins. \n",
            "Whispers of forgotten stories seemed to linger in the wind, beckoning us closer. \n",
            "With hearts full of curiosity, we embarked on a journey through time, deciphering secrets hidden within the crumbling stones.\n",
            "\n"
          ]
        }
      ]
    },
    {
      "cell_type": "code",
      "source": [
        "long_words = []\n",
        "for word in word_list:\n",
        "    if len(word) > 8:\n",
        "        long_words.append(word)\n",
        "print(f\"Words longer than 8 characters: {long_words}\")"
      ],
      "metadata": {
        "colab": {
          "base_uri": "https://localhost:8080/"
        },
        "id": "GEE6GYZICiKV",
        "outputId": "231fadb0-59b7-4836-a4f7-3a7c45ac8466"
      },
      "execution_count": 13,
      "outputs": [
        {
          "output_type": "stream",
          "name": "stdout",
          "text": [
            "Words longer than 8 characters: ['shimmered', 'forgotten', 'beckoning', 'curiosity,', 'deciphering', 'crumbling']\n"
          ]
        }
      ]
    }
  ]
}